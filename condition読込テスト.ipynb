{
 "cells": [
  {
   "cell_type": "code",
   "execution_count": 66,
   "metadata": {},
   "outputs": [
    {
     "name": "stdout",
     "output_type": "stream",
     "text": [
      "{\n",
      "    \"user_id\": \"ABPI0053\",\n",
      "    \"password\": \"YRSN@T9kuuXw7k\",\n",
      "    \"conditions_list\": [\n",
      "        [\n",
      "            \"土地\",\n",
      "            \"32\",\n",
      "            \"松江市東奥谷町\",\n",
      "            \"380\",\n",
      "            \"380\",\n",
      "            [\n",
      "                \"全部事項\"\n",
      "            ],\n",
      "            false\n",
      "        ],\n",
      "        [\n",
      "            \"土地\",\n",
      "            \"32\",\n",
      "            \"松江市東奥谷町\",\n",
      "            \"380\",\n",
      "            \"380\",\n",
      "            [\n",
      "                \"土地所在図/地積測量図\"\n",
      "            ],\n",
      "            false\n",
      "        ],\n",
      "        [\n",
      "            \"土地\",\n",
      "            \"32\",\n",
      "            \"松江市東奥谷町\",\n",
      "            \"380\",\n",
      "            \"381\",\n",
      "            [\n",
      "                \"地役権図面\"\n",
      "            ],\n",
      "            false\n",
      "        ],\n",
      "        [\n",
      "            \"土地\",\n",
      "            \"01\",\n",
      "            \"松江市東奥谷町\",\n",
      "            \"380\",\n",
      "            \"381\",\n",
      "            [\n",
      "                \"全部事項\"\n",
      "            ],\n",
      "            true\n",
      "        ]\n",
      "    ],\n",
      "    \"MAX_CHIBAN_SELECT_NUMBER\": 50,\n",
      "    \"MAX_CHIBAN_INTERVAL\": 10,\n",
      "    \"MAX_WAIT_TIME\": 10,\n",
      "    \"CHIBAN_RETRY_WAIT_TIME\": 5,\n",
      "    \"CHIBAN_RETRY_OUT_COUNT\": 5,\n",
      "    \"INTERVAL_TIME\": 3,\n",
      "    \"INTERVAL_TIME_RATE\": 0.2,\n",
      "    \"IS_NOTIFY_WINDOWS\": 1,\n",
      "    \"IS_NOTIFY_BROWSER\": 1\n",
      "}\n"
     ]
    },
    {
     "name": "stderr",
     "output_type": "stream",
     "text": [
      "c:\\Users\\shoyo\\Desktop\\かつみ\\crowdworks\\NET不動産登記情報取得\\work11\\venv\\Lib\\site-packages\\openpyxl\\worksheet\\_reader.py:329: UserWarning: Data Validation extension is not supported and will be removed\n",
      "  warn(msg)\n"
     ]
    }
   ],
   "source": [
    "import json\n",
    "import getConfig\n",
    "\n",
    "import importlib\n",
    "importlib.reload(getConfig)\n",
    "\n",
    "config=GetConfig.getConfigFromXlsx()\n",
    "print(json.dumps(config, indent=4, ensure_ascii=False))"
   ]
  },
  {
   "cell_type": "code",
   "execution_count": 55,
   "metadata": {},
   "outputs": [
    {
     "data": {
      "text/plain": [
       "float"
      ]
     },
     "execution_count": 55,
     "metadata": {},
     "output_type": "execute_result"
    }
   ],
   "source": [
    "type(config[\"INTERVAL_TIME_RATE\"])"
   ]
  },
  {
   "cell_type": "code",
   "execution_count": 37,
   "metadata": {},
   "outputs": [
    {
     "data": {
      "text/plain": [
       "type"
      ]
     },
     "execution_count": 37,
     "metadata": {},
     "output_type": "execute_result"
    }
   ],
   "source": [
    "type(type(config[\"CHIBAN_RETRY_OUT_COUNT\"]))"
   ]
  },
  {
   "cell_type": "code",
   "execution_count": 38,
   "metadata": {},
   "outputs": [],
   "source": [
    "if int != type(config[\"MAX_CHIBAN_SELECT_NUMBER\"]):\n",
    "    raise Exception(\"設定値：MAX_CHIBAN_SELECT_NUMBERの値は整数を指定してください\")\n",
    "if int != type(config[\"MAX_CHIBAN_INTERVAL\"]):\n",
    "    raise Exception(\"設定値：MAX_CHIBAN_INTERVALの値は整数を指定してください\")\n",
    "if int != type(config[\"MAX_WAIT_TIME\"]):\n",
    "    raise Exception(\"設定値：MAX_WAIT_TIMEの値は整数を指定してください\")\n",
    "if int != type(config[\"CHIBAN_RETRY_WAIT_TIME\"]):\n",
    "    raise Exception(\"設定値：CHIBAN_RETRY_WAIT_TIMEの値は整数を指定してください\")\n",
    "if int != type(config[\"CHIBAN_RETRY_OUT_COUNT\"]):\n",
    "    raise Exception(\"設定値：CHIBAN_RETRY_OUT_COUNTの値は整数を指定してください\")\n",
    "if int != type(config[\"INTERVAL_TIME\"]):\n",
    "    raise Exception(\"設定値：INTERVAL_TIMEの値は整数を指定してください\")\n",
    "if float != type(config[\"INTERVAL_TIME_RATE\"]):\n",
    "    raise Exception(\"設定値：INTERVAL_TIME_RATEの値は小数を指定してください\")\n",
    "if int != type(config[\"IS_NOTIFY_WINDOWS\"]):\n",
    "    raise Exception(\"設定値：IS_NOTIFY_WINDOWSの値は整数を指定してください\")\n",
    "if int != type(config[\"IS_NOTIFY_BROWSER\"]):\n",
    "    raise Exception(\"設定値：IS_NOTIFY_BROWSERの値は整数を指定してください\")\n"
   ]
  }
 ],
 "metadata": {
  "kernelspec": {
   "display_name": "venv",
   "language": "python",
   "name": "python3"
  },
  "language_info": {
   "codemirror_mode": {
    "name": "ipython",
    "version": 3
   },
   "file_extension": ".py",
   "mimetype": "text/x-python",
   "name": "python",
   "nbconvert_exporter": "python",
   "pygments_lexer": "ipython3",
   "version": "3.12.1"
  }
 },
 "nbformat": 4,
 "nbformat_minor": 2
}
